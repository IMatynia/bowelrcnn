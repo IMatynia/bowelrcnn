{
 "cells": [
  {
   "cell_type": "code",
   "id": "initial_id",
   "metadata": {
    "collapsed": true,
    "ExecuteTime": {
     "end_time": "2024-06-14T09:50:37.188361Z",
     "start_time": "2024-06-14T09:50:37.181518Z"
    }
   },
   "source": [
    "# Imports\n",
    "import init\n",
    "import torch\n",
    "import os\n",
    "from src.core.config import Conf\n",
    "from src.statistics.statistics import TestSetValidation\n",
    "from src.core.inference import RCNNInferenceHandler\n",
    "from src.models.CNNPatternDetection import CNNPatternNetwork\n",
    "from src.models.CNNRegionClassification import CNNRegionClassifier\n",
    "\n",
    "DATA_ROOT = \"../kaggle-processed\"\n",
    "assert os.path.exists(DATA_ROOT)"
   ],
   "outputs": [],
   "execution_count": 4
  },
  {
   "metadata": {
    "ExecuteTime": {
     "end_time": "2024-06-14T09:50:37.197464Z",
     "start_time": "2024-06-14T09:50:37.191640Z"
    }
   },
   "cell_type": "code",
   "source": [
    "PATTERN_MODEL_PATH = \"./checkpoints/best_model_pattern.h5\"\n",
    "REGION_MODEL_PATH = \"./checkpoints/best_model_region.h5\"\n",
    "config = Conf(\n",
    "    inference_overlap=32,\n",
    "    vote_fraction_needed=0.5,\n",
    "    region_classification_confidence=0.75\n",
    ")\n",
    "\n",
    "device = \"cuda\""
   ],
   "id": "bed0d250e4d6bbf4",
   "outputs": [],
   "execution_count": 5
  },
  {
   "metadata": {
    "ExecuteTime": {
     "end_time": "2024-06-14T09:52:45.037298Z",
     "start_time": "2024-06-14T09:50:37.200411Z"
    }
   },
   "cell_type": "code",
   "source": [
    "\n",
    "region_model = CNNRegionClassifier(config).to(device)\n",
    "region_model.load_state_dict(torch.load(REGION_MODEL_PATH))\n",
    "pattern_model = CNNPatternNetwork(config).to(device)\n",
    "pattern_model.load_state_dict(torch.load(PATTERN_MODEL_PATH))\n",
    "\n",
    "\n",
    "inference = RCNNInferenceHandler(\n",
    "    config,\n",
    "    region_model,\n",
    "    pattern_model,\n",
    "    device\n",
    ")\n",
    "\n",
    "validation_helper = TestSetValidation(\n",
    "    config,\n",
    "    os.path.join(DATA_ROOT, \"valid\"),\n",
    "    inference\n",
    ")\n",
    "\n",
    "validation_helper.run()\n"
   ],
   "id": "170bd5db9254ead4",
   "outputs": [
    {
     "name": "stderr",
     "output_type": "stream",
     "text": [
      "2024-06-14 11:50:37.434 | INFO     | src.statistics.statistics:prep_data:177 - Preparing validation data\n",
      "Preparing data: 100%|██████████| 644/644 [02:07<00:00,  5.05it/s]\n",
      "Preparing statistics: 322it [00:00, 70400.64it/s]\n"
     ]
    },
    {
     "data": {
      "text/plain": [
       "{'TP': 8.507875409169289,\n",
       " 'TN': 579.2517239338579,\n",
       " 'FP': 10.375688066141509,\n",
       " 'FN': 45.86471259083142,\n",
       " 'avg_iou': 0.13139925764939675,\n",
       " 'accuracy': 0.9126701853152595,\n",
       " 'precision': 0.450543956933386,\n",
       " 'recall': 0.15647361514535926,\n",
       " 'specificity': 0.9824029754129859,\n",
       " 'f1_score': 0.2322774330299505}"
      ]
     },
     "execution_count": 6,
     "metadata": {},
     "output_type": "execute_result"
    }
   ],
   "execution_count": 6
  }
 ],
 "metadata": {
  "kernelspec": {
   "display_name": "Python 3",
   "language": "python",
   "name": "python3"
  },
  "language_info": {
   "codemirror_mode": {
    "name": "ipython",
    "version": 2
   },
   "file_extension": ".py",
   "mimetype": "text/x-python",
   "name": "python",
   "nbconvert_exporter": "python",
   "pygments_lexer": "ipython2",
   "version": "2.7.6"
  }
 },
 "nbformat": 4,
 "nbformat_minor": 5
}
