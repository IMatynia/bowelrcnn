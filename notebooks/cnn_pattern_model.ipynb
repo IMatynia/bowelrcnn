{
 "cells": [
  {
   "cell_type": "markdown",
   "metadata": {},
   "source": [
    "# CNN pattern model, proposal no.2.1"
   ]
  },
  {
   "cell_type": "code",
   "metadata": {},
   "source": [
    "\n",
    "# Imports\n",
    "import init\n",
    "import torch\n",
    "import torch.nn as nn\n",
    "import torch.optim as optim\n",
    "from torch.utils.data import DataLoader\n",
    "import wandb\n",
    "import os\n",
    "from src.loaders.CNNPatt2Dataset import CNNPatt2Dataset\n",
    "from src.core.config import Conf\n",
    "from src.models.ModifiedIOULoss import ModifiedDistanceBoxIOULoss, ModifiedCompleteBoxIOULoss\n",
    "from src.models.train import train\n",
    "from src.models.validate import PatternValidation\n",
    "from src.loaders.spectrogram_cacher import SpectrogramCacher\n",
    "\n",
    "validate_pattern = PatternValidation()\n",
    "\n",
    "DATA_ROOT = \"../kaggle-processed\"\n",
    "assert os.path.exists(DATA_ROOT)"
   ],
   "outputs": [],
   "execution_count": null
  },
  {
   "cell_type": "markdown",
   "metadata": {},
   "source": "## Config and w&b setup"
  },
  {
   "cell_type": "code",
   "metadata": {},
   "source": [
    "config = Conf(\n",
    "    n_reps_per_epoch=5,\n",
    "    empty_per_sound_multiplier=0,\n",
    "    lr=1.e-4,\n",
    "    augmentation_std=0.3,\n",
    "    model_type=\"CNN with improved data augmentation\",\n",
    "    loss_fn=\"Modified complete IOU loss\"\n",
    ")\n",
    "\n",
    "wandb.login()\n",
    "wandb_run = wandb.init(\n",
    "    project=\"InzCNNPatternModel\",\n",
    "    notes=\"IOU error is the most important here\",\n",
    "    config=config.to_dict()\n",
    ")"
   ],
   "outputs": [],
   "execution_count": null
  },
  {
   "cell_type": "markdown",
   "metadata": {},
   "source": [
    "## Loading dataset"
   ]
  },
  {
   "cell_type": "code",
   "metadata": {},
   "source": [
    "# setting up datasets\n",
    "train_data = CNNPatt2Dataset(os.path.join(DATA_ROOT, \"train\"), config,\n",
    "                             seed=42, region_classification=False, augment_gauss_max_std=config.augmentation_std)\n",
    "valid_data = CNNPatt2Dataset(os.path.join(DATA_ROOT, \"valid\"), config,\n",
    "                             seed=42, region_classification=False, augmentation=False)\n",
    "\n",
    "print(f\"Prepared {len(train_data)} training samples, {len(valid_data)} samples\")\n",
    "# set up data loader\n",
    "train_loader = DataLoader(train_data, batch_size=config.batch_size, shuffle=True, drop_last=True, num_workers=3)\n",
    "valid_loader = DataLoader(valid_data, batch_size=config.batch_size, shuffle=True, drop_last=True, num_workers=3)"
   ],
   "outputs": [],
   "execution_count": null
  },
  {
   "metadata": {},
   "cell_type": "markdown",
   "source": "# Caching spectrograms"
  },
  {
   "metadata": {},
   "cell_type": "code",
   "source": [
    "files_to_cache = train_data.get_all_files() + valid_data.get_all_files()\n",
    "sample_cache = SpectrogramCacher.get_instance()\n",
    "sample_cache.cache_all(files_to_cache, config.to_dict())"
   ],
   "outputs": [],
   "execution_count": null
  },
  {
   "cell_type": "markdown",
   "metadata": {},
   "source": [
    "# MODEL"
   ]
  },
  {
   "cell_type": "code",
   "metadata": {},
   "source": [
    "# STAGE 2: narrowing down the selection\n",
    "torch.random.manual_seed(42)\n",
    "\n",
    "\n",
    "class CNNPatternNetwork(nn.Module):\n",
    "    OUTPUT_SHAPE = 2\n",
    "\n",
    "    def __init__(self, config: Conf):\n",
    "        super().__init__()\n",
    "        self.conv_layers = nn.Sequential(\n",
    "            nn.Conv2d(1, config.cnn_1_filters, kernel_size=(7, 3), padding=(3, 1)), \n",
    "            nn.LeakyReLU(),\n",
    "            nn.MaxPool2d(kernel_size=2, stride=2),\n",
    "            nn.Conv2d(config.cnn_1_filters, config.cnn_2_filters, kernel_size=3, padding=1),\n",
    "            nn.LeakyReLU(),\n",
    "            nn.MaxPool2d(kernel_size=2, stride=2),\n",
    "            nn.Conv2d(config.cnn_2_filters, config.cnn_3_filters, kernel_size=3, padding=1),\n",
    "            nn.LeakyReLU(),\n",
    "            nn.MaxPool2d(kernel_size=2, stride=2),\n",
    "        )\n",
    "        self.flatten = nn.Flatten()\n",
    "        self.fc_layers = nn.Sequential(\n",
    "            nn.Linear(config.cnn_3_filters * (config.H // 8) * (config.W // 8), config.fc_size),  # Adjusted to the new output size\n",
    "            nn.LeakyReLU(),\n",
    "            nn.Dropout(config.fc_dropout),\n",
    "            nn.Linear(config.fc_size, config.fc_size),\n",
    "            nn.LeakyReLU(),\n",
    "            nn.Dropout(config.fc_dropout),\n",
    "            nn.Linear(config.fc_size, self.OUTPUT_SHAPE),\n",
    "            nn.Sigmoid()\n",
    "        )\n",
    "\n",
    "    def forward(self, x):\n",
    "        x = self.conv_layers(x)\n",
    "        x = self.flatten(x)\n",
    "        x = self.fc_layers(x)\n",
    "        return x\n",
    "\n",
    "model = CNNPatternNetwork(config)"
   ],
   "outputs": [],
   "execution_count": null
  },
  {
   "cell_type": "markdown",
   "metadata": {},
   "source": [
    "# TRAIN"
   ]
  },
  {
   "cell_type": "code",
   "metadata": {},
   "source": [
    "device = torch.device(\"cuda\" if torch.cuda.is_available() else \"cpu\")\n",
    "model = model.to(device)\n",
    "\n",
    "optimizer = optim.Adam(model.parameters(), lr=config.lr)\n",
    "scheduler = optim.lr_scheduler.StepLR(optimizer, step_size=10, gamma=0.1)\n",
    "\n",
    "loss_fn = ModifiedCompleteBoxIOULoss(config).to(device)"
   ],
   "outputs": [],
   "execution_count": null
  },
  {
   "cell_type": "code",
   "metadata": {},
   "source": [
    "train(\n",
    "    config,\n",
    "    train_loader,\n",
    "    valid_loader,\n",
    "    model,\n",
    "    device,\n",
    "    loss_fn,\n",
    "    optimizer,\n",
    "    validate_pattern,\n",
    "    wandb_run\n",
    ")"
   ],
   "outputs": [],
   "execution_count": null
  },
  {
   "metadata": {},
   "cell_type": "code",
   "source": "wandb_run.finish()",
   "outputs": [],
   "execution_count": null
  },
  {
   "metadata": {},
   "cell_type": "code",
   "source": "",
   "outputs": [],
   "execution_count": null
  }
 ],
 "metadata": {
  "kernelspec": {
   "display_name": "Python 3 (ipykernel)",
   "language": "python",
   "name": "python3"
  },
  "language_info": {
   "codemirror_mode": {
    "name": "ipython",
    "version": 3
   },
   "file_extension": ".py",
   "mimetype": "text/x-python",
   "name": "python",
   "nbconvert_exporter": "python",
   "pygments_lexer": "ipython3",
   "version": "3.10.8"
  }
 },
 "nbformat": 4,
 "nbformat_minor": 2
}
