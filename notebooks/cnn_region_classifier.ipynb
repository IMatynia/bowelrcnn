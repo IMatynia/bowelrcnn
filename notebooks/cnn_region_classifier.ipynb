{
 "cells": [
  {
   "cell_type": "markdown",
   "metadata": {},
   "source": [
    "# CNN pattern model, proposal no.2.1"
   ]
  },
  {
   "cell_type": "code",
   "metadata": {
    "ExecuteTime": {
     "end_time": "2024-06-14T00:16:18.105841Z",
     "start_time": "2024-06-14T00:16:14.408725Z"
    }
   },
   "source": [
    "# Imports\n",
    "import init\n",
    "import torch\n",
    "import torch.nn as nn\n",
    "import torch.optim as optim\n",
    "from torch.utils.data import DataLoader\n",
    "import wandb\n",
    "import os\n",
    "from src.loaders.CNNPatt2Dataset import CNNPatt2Dataset\n",
    "from src.core.config import Conf\n",
    "from src.models.train import train\n",
    "from src.models.validate import RegionNetValidation\n",
    "from src.loaders.spectrogram_cacher import SpectrogramCacher\n",
    "\n",
    "validate_region = RegionNetValidation()\n",
    "\n",
    "DATA_ROOT = \"../kaggle-processed\"\n",
    "assert os.path.exists(DATA_ROOT)"
   ],
   "outputs": [],
   "execution_count": 1
  },
  {
   "cell_type": "markdown",
   "metadata": {},
   "source": "## Config and w&b setup"
  },
  {
   "cell_type": "code",
   "metadata": {
    "ExecuteTime": {
     "end_time": "2024-06-14T00:16:26.477489Z",
     "start_time": "2024-06-14T00:16:18.107042Z"
    }
   },
   "source": [
    "config = Conf(\n",
    "    loss_fn=\"BCE\",\n",
    "    n_epochs=100,\n",
    "    n_reps_per_epoch=5,\n",
    "    augmentation_std=0.3,\n",
    "    empty_per_sound_multiplier=3,\n",
    "    model_type=\"CNN with improved data augmentation\",\n",
    ")\n",
    "\n",
    "wandb.login()\n",
    "wandb_run = wandb.init(\n",
    "    project=\"InzCNNRegionClassifier\",\n",
    "    notes=\"Region classification\",\n",
    "    config=config.to_dict()\n",
    ")"
   ],
   "outputs": [
    {
     "name": "stderr",
     "output_type": "stream",
     "text": [
      "\u001B[34m\u001B[1mwandb\u001B[0m: Currently logged in as: \u001B[33mimatynia\u001B[0m (\u001B[33mimatynia-inzynierka\u001B[0m). Use \u001B[1m`wandb login --relogin`\u001B[0m to force relogin\n"
     ]
    },
    {
     "data": {
      "text/plain": [
       "VBox(children=(Label(value='Waiting for wandb.init()...\\r'), FloatProgress(value=0.016673875849998392, max=1.0…"
      ],
      "application/vnd.jupyter.widget-view+json": {
       "version_major": 2,
       "version_minor": 0,
       "model_id": "0e1e5f3b6151425592e32b9778257661"
      }
     },
     "metadata": {},
     "output_type": "display_data"
    },
    {
     "data": {
      "text/plain": [
       "<IPython.core.display.HTML object>"
      ],
      "text/html": [
       "wandb version 0.17.1 is available!  To upgrade, please run:\n",
       " $ pip install wandb --upgrade"
      ]
     },
     "metadata": {},
     "output_type": "display_data"
    },
    {
     "data": {
      "text/plain": [
       "<IPython.core.display.HTML object>"
      ],
      "text/html": [
       "Tracking run with wandb version 0.13.7"
      ]
     },
     "metadata": {},
     "output_type": "display_data"
    },
    {
     "data": {
      "text/plain": [
       "<IPython.core.display.HTML object>"
      ],
      "text/html": [
       "Run data is saved locally in <code>/home/imat/inzynierka/bowel-repos/bowel-model-2024/notebooks/wandb/run-20240614_021620-1mxo3w3g</code>"
      ]
     },
     "metadata": {},
     "output_type": "display_data"
    },
    {
     "data": {
      "text/plain": [
       "<IPython.core.display.HTML object>"
      ],
      "text/html": [
       "Syncing run <strong><a href=\"https://wandb.ai/imatynia-inzynierka/InzCNNRegionClassifier/runs/1mxo3w3g\" target=\"_blank\">stoic-gorge-28</a></strong> to <a href=\"https://wandb.ai/imatynia-inzynierka/InzCNNRegionClassifier\" target=\"_blank\">Weights & Biases</a> (<a href=\"https://wandb.me/run\" target=\"_blank\">docs</a>)<br/>"
      ]
     },
     "metadata": {},
     "output_type": "display_data"
    }
   ],
   "execution_count": 2
  },
  {
   "metadata": {},
   "cell_type": "markdown",
   "source": ""
  },
  {
   "metadata": {},
   "cell_type": "markdown",
   "source": "# Loading dataset"
  },
  {
   "metadata": {
    "ExecuteTime": {
     "end_time": "2024-06-14T00:16:29.373396Z",
     "start_time": "2024-06-14T00:16:26.480343Z"
    }
   },
   "cell_type": "code",
   "source": [
    "# setting up datasets\n",
    "train_data = CNNPatt2Dataset(os.path.join(DATA_ROOT, \"train\"), config,\n",
    "                             seed=10, region_classification=True, augment_gauss_max_std=config.augmentation_std)\n",
    "valid_data = CNNPatt2Dataset(os.path.join(DATA_ROOT, \"valid\"), config,\n",
    "                             seed=11, region_classification=True, augmentation=False)\n",
    "\n",
    "print(f\"Prepared {len(train_data)} training samples, {len(valid_data)} samples\")\n",
    "# set up data loader\n",
    "train_loader = DataLoader(train_data, batch_size=config.batch_size, shuffle=True, drop_last=True, num_workers=3)\n",
    "valid_loader = DataLoader(valid_data, batch_size=config.batch_size, shuffle=True, drop_last=True, num_workers=3)"
   ],
   "outputs": [
    {
     "name": "stderr",
     "output_type": "stream",
     "text": [
      "2024-06-14 02:16:26.488 | INFO     | src.loaders.CNNPatt2Loader:__init__:58 - Loading annotations\n",
      "2024-06-14 02:16:28.251 | INFO     | src.loaders.CNNPatt2Loader:_cache_items:169 - Caching dataset item descriptions\n",
      "2024-06-14 02:16:28.312 | WARNING  | src.loaders.CNNPatt2Loader:_process_regions:103 - Very short sound: BowelSound(start=0.1364170000000015, end=0.1364170000000015, f_min=822.857117, f_max=822.857117, category=nan)\n",
      "2024-06-14 02:16:28.445 | WARNING  | src.loaders.CNNPatt2Loader:_process_regions:105 - Edge case: BowelSound(start=1.9602720000000036, end=2.799092999999999, f_min=609.686584, f_max=609.686584, category='bc')\n",
      "2024-06-14 02:16:28.471 | WARNING  | src.loaders.CNNPatt2Loader:_process_regions:105 - Edge case: BowelSound(start=1.9508389999999736, end=3.0973240000000146, f_min=131.054138, f_max=1880.341919, category='bc')\n",
      "2024-06-14 02:16:28.639 | WARNING  | src.loaders.CNNPatt2Loader:_process_regions:105 - Edge case: BowelSound(start=1.875010999999972, end=3.1637190000000146, f_min=113.960114, f_max=1897.435913, category='bc')\n",
      "2024-06-14 02:16:28.660 | WARNING  | src.loaders.CNNPatt2Loader:_process_regions:105 - Edge case: BowelSound(start=-1.873016000000007, end=0.1993650000000002, f_min=142.450134, f_max=1920.227905, category='a')\n",
      "2024-06-14 02:16:28.711 | INFO     | src.loaders.CNNPatt2Loader:_cache_items:234 - Caching done: 5258 regions created\n",
      "2024-06-14 02:16:28.712 | INFO     | src.loaders.CNNPatt2Loader:__init__:58 - Loading annotations\n",
      "2024-06-14 02:16:29.129 | INFO     | src.loaders.CNNPatt2Loader:_cache_items:169 - Caching dataset item descriptions\n",
      "2024-06-14 02:16:29.369 | INFO     | src.loaders.CNNPatt2Loader:_cache_items:234 - Caching done: 1150 regions created\n"
     ]
    },
    {
     "name": "stdout",
     "output_type": "stream",
     "text": [
      "Prepared 105160 training samples, 23000 samples\n"
     ]
    }
   ],
   "execution_count": 3
  },
  {
   "metadata": {},
   "cell_type": "markdown",
   "source": "# Caching spectrograms"
  },
  {
   "metadata": {
    "ExecuteTime": {
     "end_time": "2024-06-14T00:16:41.948664Z",
     "start_time": "2024-06-14T00:16:29.374928Z"
    }
   },
   "cell_type": "code",
   "source": [
    "files_to_cache = train_data.get_all_files() + valid_data.get_all_files()\n",
    "sample_cache = SpectrogramCacher.get_instance()\n",
    "sample_cache.cache_all(files_to_cache, config.to_dict())"
   ],
   "outputs": [
    {
     "name": "stderr",
     "output_type": "stream",
     "text": [
      "2024-06-14 02:16:29.377 | INFO     | src.loaders.spectrogram_cacher:cache_all:74 - Caching all 1606 files\n",
      "2024-06-14 02:16:41.943 | INFO     | src.loaders.spectrogram_cacher:cache_all:80 - Caching completed\n"
     ]
    }
   ],
   "execution_count": 4
  },
  {
   "metadata": {},
   "cell_type": "markdown",
   "source": "# MODEL"
  },
  {
   "metadata": {
    "ExecuteTime": {
     "end_time": "2024-06-14T00:16:42.056764Z",
     "start_time": "2024-06-14T00:16:41.951214Z"
    }
   },
   "cell_type": "code",
   "source": [
    "# STAGE 1: Classifying regions\n",
    "torch.random.manual_seed(42)\n",
    "\n",
    "\n",
    "class CNNRegionClassifier(nn.Module):\n",
    "    OUTPUT_SHAPE = 2\n",
    "\n",
    "    def __init__(self, config: Conf):\n",
    "        super().__init__()\n",
    "        self.conv_layers = nn.Sequential(\n",
    "            nn.Conv2d(1, config.cnn_1_filters, kernel_size=5, padding=2), \n",
    "            nn.LeakyReLU(),\n",
    "            nn.MaxPool2d(kernel_size=2, stride=2),\n",
    "            nn.Conv2d(config.cnn_1_filters, config.cnn_2_filters, kernel_size=5, padding=2),\n",
    "            nn.LeakyReLU(),\n",
    "            nn.MaxPool2d(kernel_size=2, stride=2),\n",
    "            nn.Conv2d(config.cnn_2_filters, config.cnn_3_filters, kernel_size=5, padding=2),\n",
    "            nn.LeakyReLU(),\n",
    "            nn.MaxPool2d(kernel_size=2, stride=2),\n",
    "        )\n",
    "        self.flatten = nn.Flatten()\n",
    "        self.fc_layers = nn.Sequential(\n",
    "            nn.Linear(config.cnn_3_filters * (config.H // 8) * (config.W // 8), config.fc_size),  # Adjusted to the new output size\n",
    "            nn.LeakyReLU(),\n",
    "            nn.Dropout(config.fc_dropout),\n",
    "            nn.Linear(config.fc_size, config.fc_size),\n",
    "            nn.LeakyReLU(),\n",
    "            nn.Dropout(config.fc_dropout),\n",
    "            nn.Linear(config.fc_size, self.OUTPUT_SHAPE),\n",
    "            nn.Sigmoid()\n",
    "        )\n",
    "\n",
    "    def forward(self, x):\n",
    "        x = self.conv_layers(x)\n",
    "        x = self.flatten(x)\n",
    "        x = self.fc_layers(x)\n",
    "        return x\n",
    "\n",
    "model = CNNRegionClassifier(config)"
   ],
   "outputs": [],
   "execution_count": 5
  },
  {
   "metadata": {},
   "cell_type": "markdown",
   "source": "# TRAIN"
  },
  {
   "metadata": {
    "ExecuteTime": {
     "end_time": "2024-06-14T00:16:42.191042Z",
     "start_time": "2024-06-14T00:16:42.058023Z"
    }
   },
   "cell_type": "code",
   "source": [
    "device = torch.device(\"cuda\" if torch.cuda.is_available() else \"cpu\")\n",
    "model = model.to(device)\n",
    "\n",
    "optimizer = optim.Adam(model.parameters(), lr=config.lr, weight_decay=config.weight_decay)\n",
    "# scheduler = optim.lr_scheduler.StepLR(optimizer, step_size=10, gamma=0.1)\n",
    "\n",
    "loss_fn = nn.BCELoss()"
   ],
   "outputs": [],
   "execution_count": 6
  },
  {
   "metadata": {
    "ExecuteTime": {
     "end_time": "2024-06-14T00:37:39.036696Z",
     "start_time": "2024-06-14T00:16:42.192027Z"
    }
   },
   "cell_type": "code",
   "source": [
    "train(\n",
    "    config,\n",
    "    train_loader,\n",
    "    valid_loader,\n",
    "    model,\n",
    "    device,\n",
    "    loss_fn,\n",
    "    optimizer,\n",
    "    validate_region,\n",
    "    wandb_run\n",
    ")"
   ],
   "outputs": [
    {
     "name": "stderr",
     "output_type": "stream",
     "text": [
      "Epoch 1/100: 100%|██████████| 410/410 [00:55<00:00,  7.36it/s]\n",
      "2024-06-14 02:17:37.944 | INFO     | src.models.train:train:24 - Epoch 1/100, Loss: 0.3310\n",
      "2024-06-14 02:17:42.547 | INFO     | src.models.validate:__call__:96 - VALIDATION:     0/100 | BCE LOSS: 0.23752194, MSE LOSS: 0.07161916\n",
      "2024-06-14 02:17:42.662 | INFO     | src.models.validate:__call__:108 - Better model saved\n",
      "Epoch 2/100: 100%|██████████| 410/410 [00:55<00:00,  7.37it/s]\n",
      "2024-06-14 02:18:38.341 | INFO     | src.models.train:train:24 - Epoch 2/100, Loss: 0.2295\n",
      "Epoch 3/100: 100%|██████████| 410/410 [00:55<00:00,  7.36it/s]\n",
      "2024-06-14 02:19:34.088 | INFO     | src.models.train:train:24 - Epoch 3/100, Loss: 0.2143\n",
      "Epoch 4/100: 100%|██████████| 410/410 [00:55<00:00,  7.34it/s]\n",
      "2024-06-14 02:20:29.952 | INFO     | src.models.train:train:24 - Epoch 4/100, Loss: 0.2017\n",
      "Epoch 5/100: 100%|██████████| 410/410 [00:55<00:00,  7.34it/s]\n",
      "2024-06-14 02:21:25.843 | INFO     | src.models.train:train:24 - Epoch 5/100, Loss: 0.1947\n",
      "Epoch 6/100: 100%|██████████| 410/410 [00:55<00:00,  7.33it/s]\n",
      "2024-06-14 02:22:21.766 | INFO     | src.models.train:train:24 - Epoch 6/100, Loss: 0.1803\n",
      "2024-06-14 02:22:26.447 | INFO     | src.models.validate:__call__:96 - VALIDATION:     5/100 | BCE LOSS: 0.21843505, MSE LOSS: 0.06687490\n",
      "2024-06-14 02:22:26.570 | INFO     | src.models.validate:__call__:108 - Better model saved\n",
      "Epoch 7/100: 100%|██████████| 410/410 [00:55<00:00,  7.34it/s]\n",
      "2024-06-14 02:23:22.473 | INFO     | src.models.train:train:24 - Epoch 7/100, Loss: 0.1749\n",
      "Epoch 8/100: 100%|██████████| 410/410 [00:55<00:00,  7.34it/s]\n",
      "2024-06-14 02:24:18.371 | INFO     | src.models.train:train:24 - Epoch 8/100, Loss: 0.1621\n",
      "Epoch 9/100: 100%|██████████| 410/410 [00:56<00:00,  7.30it/s]\n",
      "2024-06-14 02:25:14.545 | INFO     | src.models.train:train:24 - Epoch 9/100, Loss: 0.1523\n",
      "Epoch 10/100: 100%|██████████| 410/410 [00:55<00:00,  7.32it/s]\n",
      "2024-06-14 02:26:10.546 | INFO     | src.models.train:train:24 - Epoch 10/100, Loss: 0.1392\n",
      "Epoch 11/100: 100%|██████████| 410/410 [00:56<00:00,  7.32it/s]\n",
      "2024-06-14 02:27:06.601 | INFO     | src.models.train:train:24 - Epoch 11/100, Loss: 0.1341\n",
      "2024-06-14 02:27:11.324 | INFO     | src.models.validate:__call__:96 - VALIDATION:    10/100 | BCE LOSS: 0.24023266, MSE LOSS: 0.06605627\n",
      "Epoch 12/100: 100%|██████████| 410/410 [00:56<00:00,  7.32it/s]\n",
      "2024-06-14 02:28:07.375 | INFO     | src.models.train:train:24 - Epoch 12/100, Loss: 0.1215\n",
      "Epoch 13/100: 100%|██████████| 410/410 [00:56<00:00,  7.31it/s]\n",
      "2024-06-14 02:29:03.485 | INFO     | src.models.train:train:24 - Epoch 13/100, Loss: 0.1182\n",
      "Epoch 14/100: 100%|██████████| 410/410 [00:56<00:00,  7.31it/s]\n",
      "2024-06-14 02:29:59.583 | INFO     | src.models.train:train:24 - Epoch 14/100, Loss: 0.1117\n",
      "Epoch 15/100: 100%|██████████| 410/410 [00:55<00:00,  7.32it/s]\n",
      "2024-06-14 02:30:55.628 | INFO     | src.models.train:train:24 - Epoch 15/100, Loss: 0.1063\n",
      "Epoch 16/100: 100%|██████████| 410/410 [00:56<00:00,  7.32it/s]\n",
      "2024-06-14 02:31:51.661 | INFO     | src.models.train:train:24 - Epoch 16/100, Loss: 0.0998\n",
      "2024-06-14 02:31:56.416 | INFO     | src.models.validate:__call__:96 - VALIDATION:    15/100 | BCE LOSS: 0.26620670, MSE LOSS: 0.06673341\n",
      "Epoch 17/100: 100%|██████████| 410/410 [00:55<00:00,  7.32it/s]\n",
      "2024-06-14 02:32:52.447 | INFO     | src.models.train:train:24 - Epoch 17/100, Loss: 0.0967\n",
      "Epoch 18/100: 100%|██████████| 410/410 [00:56<00:00,  7.32it/s]\n",
      "2024-06-14 02:33:48.518 | INFO     | src.models.train:train:24 - Epoch 18/100, Loss: 0.0932\n",
      "Epoch 19/100: 100%|██████████| 410/410 [00:56<00:00,  7.31it/s]\n",
      "2024-06-14 02:34:44.632 | INFO     | src.models.train:train:24 - Epoch 19/100, Loss: 0.0890\n",
      "Epoch 20/100: 100%|██████████| 410/410 [00:56<00:00,  7.31it/s]\n",
      "2024-06-14 02:35:40.732 | INFO     | src.models.train:train:24 - Epoch 20/100, Loss: 0.0881\n",
      "Epoch 21/100: 100%|██████████| 410/410 [00:56<00:00,  7.31it/s]\n",
      "2024-06-14 02:36:36.829 | INFO     | src.models.train:train:24 - Epoch 21/100, Loss: 0.0836\n",
      "2024-06-14 02:36:41.514 | INFO     | src.models.validate:__call__:96 - VALIDATION:    20/100 | BCE LOSS: 0.29955569, MSE LOSS: 0.06677679\n",
      "Epoch 22/100: 100%|██████████| 410/410 [00:56<00:00,  7.31it/s]\n",
      "2024-06-14 02:37:37.638 | INFO     | src.models.train:train:24 - Epoch 22/100, Loss: 0.0823\n",
      "Epoch 23/100:   1%|          | 5/410 [00:01<01:26,  4.69it/s]\n"
     ]
    },
    {
     "ename": "KeyboardInterrupt",
     "evalue": "",
     "output_type": "error",
     "traceback": [
      "\u001B[0;31m---------------------------------------------------------------------------\u001B[0m",
      "\u001B[0;31mKeyboardInterrupt\u001B[0m                         Traceback (most recent call last)",
      "Cell \u001B[0;32mIn [7], line 1\u001B[0m\n\u001B[0;32m----> 1\u001B[0m \u001B[43mtrain\u001B[49m\u001B[43m(\u001B[49m\n\u001B[1;32m      2\u001B[0m \u001B[43m    \u001B[49m\u001B[43mconfig\u001B[49m\u001B[43m,\u001B[49m\n\u001B[1;32m      3\u001B[0m \u001B[43m    \u001B[49m\u001B[43mtrain_loader\u001B[49m\u001B[43m,\u001B[49m\n\u001B[1;32m      4\u001B[0m \u001B[43m    \u001B[49m\u001B[43mvalid_loader\u001B[49m\u001B[43m,\u001B[49m\n\u001B[1;32m      5\u001B[0m \u001B[43m    \u001B[49m\u001B[43mmodel\u001B[49m\u001B[43m,\u001B[49m\n\u001B[1;32m      6\u001B[0m \u001B[43m    \u001B[49m\u001B[43mdevice\u001B[49m\u001B[43m,\u001B[49m\n\u001B[1;32m      7\u001B[0m \u001B[43m    \u001B[49m\u001B[43mloss_fn\u001B[49m\u001B[43m,\u001B[49m\n\u001B[1;32m      8\u001B[0m \u001B[43m    \u001B[49m\u001B[43moptimizer\u001B[49m\u001B[43m,\u001B[49m\n\u001B[1;32m      9\u001B[0m \u001B[43m    \u001B[49m\u001B[43mvalidate_region\u001B[49m\u001B[43m,\u001B[49m\n\u001B[1;32m     10\u001B[0m \u001B[43m    \u001B[49m\u001B[43mwandb_run\u001B[49m\n\u001B[1;32m     11\u001B[0m \u001B[43m)\u001B[49m\n",
      "File \u001B[0;32m~/inzynierka/bowel-repos/bowel-model-2024/src/models/train.py:13\u001B[0m, in \u001B[0;36mtrain\u001B[0;34m(config, train_loader, valid_loader, model, device, loss_fn, optimizer, validation, wandb_run)\u001B[0m\n\u001B[1;32m     11\u001B[0m progress \u001B[38;5;241m=\u001B[39m \u001B[38;5;124mf\u001B[39m\u001B[38;5;124m\"\u001B[39m\u001B[38;5;132;01m{\u001B[39;00mepoch \u001B[38;5;241m+\u001B[39m \u001B[38;5;241m1\u001B[39m\u001B[38;5;132;01m}\u001B[39;00m\u001B[38;5;124m/\u001B[39m\u001B[38;5;132;01m{\u001B[39;00mconfig\u001B[38;5;241m.\u001B[39mn_epochs\u001B[38;5;132;01m}\u001B[39;00m\u001B[38;5;124m\"\u001B[39m\n\u001B[1;32m     12\u001B[0m \u001B[38;5;28;01mfor\u001B[39;00m X_batch, y_batch \u001B[38;5;129;01min\u001B[39;00m tqdm(train_loader, desc\u001B[38;5;241m=\u001B[39m\u001B[38;5;124mf\u001B[39m\u001B[38;5;124m'\u001B[39m\u001B[38;5;124mEpoch \u001B[39m\u001B[38;5;132;01m{\u001B[39;00mprogress\u001B[38;5;132;01m}\u001B[39;00m\u001B[38;5;124m'\u001B[39m):\n\u001B[0;32m---> 13\u001B[0m     X_batch, y_batch \u001B[38;5;241m=\u001B[39m \u001B[43mX_batch\u001B[49m\u001B[38;5;241;43m.\u001B[39;49m\u001B[43mto\u001B[49m\u001B[43m(\u001B[49m\u001B[43mdevice\u001B[49m\u001B[43m)\u001B[49m\u001B[38;5;241m.\u001B[39mfloat(), y_batch\u001B[38;5;241m.\u001B[39mto(device)\u001B[38;5;241m.\u001B[39mfloat()\n\u001B[1;32m     15\u001B[0m     y_pred \u001B[38;5;241m=\u001B[39m model(X_batch)\n\u001B[1;32m     17\u001B[0m     loss \u001B[38;5;241m=\u001B[39m loss_fn(y_pred, y_batch)\n",
      "\u001B[0;31mKeyboardInterrupt\u001B[0m: "
     ]
    }
   ],
   "execution_count": 7
  },
  {
   "metadata": {
    "ExecuteTime": {
     "end_time": "2024-06-14T00:37:50.231964Z",
     "start_time": "2024-06-14T00:37:42.023554Z"
    }
   },
   "cell_type": "code",
   "source": "wandb_run.finish()",
   "outputs": [
    {
     "data": {
      "text/plain": [
       "<IPython.core.display.HTML object>"
      ],
      "text/html": [
       "Waiting for W&B process to finish... <strong style=\"color:green\">(success).</strong>"
      ]
     },
     "metadata": {},
     "output_type": "display_data"
    },
    {
     "data": {
      "text/plain": [
       "<IPython.core.display.HTML object>"
      ],
      "text/html": [
       "<style>\n",
       "    table.wandb td:nth-child(1) { padding: 0 10px; text-align: left ; width: auto;} td:nth-child(2) {text-align: left ; width: 100%}\n",
       "    .wandb-row { display: flex; flex-direction: row; flex-wrap: wrap; justify-content: flex-start; width: 100% }\n",
       "    .wandb-col { display: flex; flex-direction: column; flex-basis: 100%; flex: 1; padding: 10px; }\n",
       "    </style>\n",
       "<div class=\"wandb-row\"><div class=\"wandb-col\"><h3>Run history:</h3><br/><table class=\"wandb\"><tr><td>epoch</td><td>▁▁▁▂▂▂▃▃▃▃▄▄▄▄▅▅▅▆▆▆▆▇▇▇███</td></tr><tr><td>train_loss</td><td>█▅▅▄▄▄▄▃▃▃▂▂▂▂▂▁▁▁▁▁▁▁</td></tr><tr><td>val_loss</td><td>▃▁▃▅█</td></tr><tr><td>val_mse</td><td>█▂▁▂▂</td></tr></table><br/></div><div class=\"wandb-col\"><h3>Run summary:</h3><br/><table class=\"wandb\"><tr><td>epoch</td><td>21</td></tr><tr><td>train_loss</td><td>0.08234</td></tr><tr><td>val_loss</td><td>0.29956</td></tr><tr><td>val_mse</td><td>0.06678</td></tr></table><br/></div></div>"
      ]
     },
     "metadata": {},
     "output_type": "display_data"
    },
    {
     "data": {
      "text/plain": [
       "<IPython.core.display.HTML object>"
      ],
      "text/html": [
       "Synced <strong style=\"color:#cdcd00\">stoic-gorge-28</strong>: <a href=\"https://wandb.ai/imatynia-inzynierka/InzCNNRegionClassifier/runs/1mxo3w3g\" target=\"_blank\">https://wandb.ai/imatynia-inzynierka/InzCNNRegionClassifier/runs/1mxo3w3g</a><br/>Synced 6 W&B file(s), 0 media file(s), 0 artifact file(s) and 1 other file(s)"
      ]
     },
     "metadata": {},
     "output_type": "display_data"
    },
    {
     "data": {
      "text/plain": [
       "<IPython.core.display.HTML object>"
      ],
      "text/html": [
       "Find logs at: <code>./wandb/run-20240614_021620-1mxo3w3g/logs</code>"
      ]
     },
     "metadata": {},
     "output_type": "display_data"
    }
   ],
   "execution_count": 8
  },
  {
   "metadata": {},
   "cell_type": "code",
   "outputs": [],
   "execution_count": null,
   "source": ""
  }
 ],
 "metadata": {
  "kernelspec": {
   "display_name": "Python 3 (ipykernel)",
   "language": "python",
   "name": "python3"
  },
  "language_info": {
   "codemirror_mode": {
    "name": "ipython",
    "version": 3
   },
   "file_extension": ".py",
   "mimetype": "text/x-python",
   "name": "python",
   "nbconvert_exporter": "python",
   "pygments_lexer": "ipython3",
   "version": "3.10.8"
  }
 },
 "nbformat": 4,
 "nbformat_minor": 2
}
